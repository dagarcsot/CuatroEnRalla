{
  "cells": [
    {
      "cell_type": "markdown",
      "metadata": {
        "id": "view-in-github",
        "colab_type": "text"
      },
      "source": [
        "<a href=\"https://colab.research.google.com/github/dagarcsot/CuatroEnRalla/blob/main/practica2.ipynb\" target=\"_parent\"><img src=\"https://colab.research.google.com/assets/colab-badge.svg\" alt=\"Open In Colab\"/></a>"
      ]
    },
    {
      "cell_type": "markdown",
      "metadata": {
        "id": "OgLp1Gtc1s2k"
      },
      "source": [
        "# Práctica 2. Introducción a Python II\n",
        "\n",
        "Objetivos de la práctica:\n",
        "* Seguir aprendiendo el uso de Python.\n",
        "    - Listas por comprensión.\n",
        "    - Uso de ficheros.\n",
        "    - Funciones de orden superior\n",
        "    - Clases.\n",
        "\n",
        "Si estás utilizando Colab para interactuar con estos notebooks, para que los cambios realizados se almacenen en el repositorio debes usar la opción Save a copy in GitHub... del menú File.\n",
        "\n",
        "A lo largo de la práctica se proporcionan una serie de tests para que compruebes tus soluciones. También puedes añadir las celdas que consideres necesarias para comprobar los métodos que definas."
      ]
    },
    {
      "cell_type": "markdown",
      "metadata": {
        "id": "D71waoUK1s2r"
      },
      "source": [
        "## Ejercicios mínimos (6 puntos)\n",
        "\n",
        "### Ejercicio 1\n",
        "\n",
        "Escribir una función cuadrados que recibiendo una secuencia de números, devuelve la lista de los cuadrados de estos números. Ejemplo. Dada la lista ``[4,1,5.2,3,8]``, la función produce como resultado ``[16, 1, 27.040000000000003, 9, 64]``. Implementa dos versiones: una usando un bucle y otra mediante listas por comprensión."
      ]
    },
    {
      "cell_type": "code",
      "source": [
        "!pip install mypy\n",
        "!wget https://raw.githubusercontent.com/IA1920/Utils/master/typecheck.py\n",
        "from typecheck import *"
      ],
      "metadata": {
        "id": "GKrQ6iS3V-vf",
        "outputId": "5b7cef50-feb8-426d-d513-79381b38ad1f",
        "colab": {
          "base_uri": "https://localhost:8080/"
        }
      },
      "execution_count": 2,
      "outputs": [
        {
          "output_type": "stream",
          "name": "stdout",
          "text": [
            "Collecting mypy\n",
            "  Downloading mypy-1.15.0-cp311-cp311-manylinux_2_17_x86_64.manylinux2014_x86_64.manylinux_2_28_x86_64.whl.metadata (2.1 kB)\n",
            "Requirement already satisfied: typing_extensions>=4.6.0 in /usr/local/lib/python3.11/dist-packages (from mypy) (4.12.2)\n",
            "Collecting mypy_extensions>=1.0.0 (from mypy)\n",
            "  Downloading mypy_extensions-1.0.0-py3-none-any.whl.metadata (1.1 kB)\n",
            "Downloading mypy-1.15.0-cp311-cp311-manylinux_2_17_x86_64.manylinux2014_x86_64.manylinux_2_28_x86_64.whl (12.3 MB)\n",
            "\u001b[2K   \u001b[90m━━━━━━━━━━━━━━━━━━━━━━━━━━━━━━━━━━━━━━━━\u001b[0m \u001b[32m12.3/12.3 MB\u001b[0m \u001b[31m85.3 MB/s\u001b[0m eta \u001b[36m0:00:00\u001b[0m\n",
            "\u001b[?25hDownloading mypy_extensions-1.0.0-py3-none-any.whl (4.7 kB)\n",
            "Installing collected packages: mypy_extensions, mypy\n",
            "Successfully installed mypy-1.15.0 mypy_extensions-1.0.0\n",
            "--2025-02-18 18:00:31--  https://raw.githubusercontent.com/IA1920/Utils/master/typecheck.py\n",
            "Resolving raw.githubusercontent.com (raw.githubusercontent.com)... 185.199.108.133, 185.199.109.133, 185.199.110.133, ...\n",
            "Connecting to raw.githubusercontent.com (raw.githubusercontent.com)|185.199.108.133|:443... connected.\n",
            "HTTP request sent, awaiting response... 200 OK\n",
            "Length: 1633 (1.6K) [text/plain]\n",
            "Saving to: ‘typecheck.py’\n",
            "\n",
            "typecheck.py        100%[===================>]   1.59K  --.-KB/s    in 0s      \n",
            "\n",
            "2025-02-18 18:00:31 (25.4 MB/s) - ‘typecheck.py’ saved [1633/1633]\n",
            "\n"
          ]
        }
      ]
    },
    {
      "cell_type": "code",
      "execution_count": 53,
      "metadata": {
        "id": "4O65rYfF1s2v",
        "outputId": "0bc55c2e-87e8-4c3e-cffe-b426e09c2c3e",
        "colab": {
          "base_uri": "https://localhost:8080/"
        }
      },
      "outputs": [
        {
          "output_type": "stream",
          "name": "stdout",
          "text": [
            "Success: no issues found in 1 source file\n",
            "\n"
          ]
        }
      ],
      "source": [
        "%%typecheck\n",
        "def cuadrados_bucle(l:list[int])->list[int]:\n",
        "    result = []\n",
        "    for x in l:\n",
        "      result.append(x*x)\n",
        "    return result"
      ]
    },
    {
      "cell_type": "code",
      "execution_count": 4,
      "metadata": {
        "id": "paAPtfRW1s29",
        "outputId": "616c50c1-fc5f-4995-bcf7-0b4e8eea45f8",
        "colab": {
          "base_uri": "https://localhost:8080/"
        }
      },
      "outputs": [
        {
          "output_type": "stream",
          "name": "stdout",
          "text": [
            "Success: no issues found in 1 source file\n",
            "\n"
          ]
        }
      ],
      "source": [
        "%%typecheck\n",
        "def cuadrados_comprension(l:list[int])->list[int]:\n",
        "    return [x*x for x in l]"
      ]
    },
    {
      "cell_type": "markdown",
      "metadata": {
        "id": "rkFL4Evo1s3F"
      },
      "source": [
        "Comprueba los tests."
      ]
    },
    {
      "cell_type": "code",
      "execution_count": 5,
      "metadata": {
        "colab": {
          "base_uri": "https://localhost:8080/"
        },
        "deletable": false,
        "editable": false,
        "id": "OxmNo6SB1s3H",
        "outputId": "d9f406a1-69e8-45f3-a44f-b580f4f4f9c9"
      },
      "outputs": [
        {
          "output_type": "stream",
          "name": "stdout",
          "text": [
            "El valor de cuadrados_bucle es correcto\n",
            "El valor de cuadrados_comprension es correcto\n"
          ]
        }
      ],
      "source": [
        "assert cuadrados_bucle([1,2,3,4])==[1, 4, 9, 16], \"El valor de cuadrados_bucle no es correcto\"\n",
        "assert cuadrados_bucle([4,1,5.2,3,8])==[16, 1, 27.040000000000003, 9, 64], \"El valor de cuadrados_bucle no es correcto\"\n",
        "assert cuadrados_bucle([1, 2, 3, 4, 5])==[1, 4, 9, 16, 25], \"El valor de cuadrados_bucle no es correcto\"\n",
        "assert cuadrados_comprension([1,2,3,4])==[1, 4, 9, 16], \"El valor de cuadrados_comprension no es correcto\"\n",
        "assert cuadrados_comprension([4,1,5.2,3,8])==[16, 1, 27.040000000000003, 9, 64], \"El valor de cuadrados_comprension no es correcto\"\n",
        "assert cuadrados_comprension([1, 2, 3, 4, 5])==[1, 4, 9, 16, 25], \"El valor de cuadrados_comprension no es correcto\"\n",
        "\n",
        "print(\"El valor de cuadrados_bucle es correcto\")\n",
        "print(\"El valor de cuadrados_comprension es correcto\")\n"
      ]
    },
    {
      "cell_type": "markdown",
      "metadata": {
        "id": "wxoUuMFn1s3P"
      },
      "source": [
        "A partir de ahora en los siguientes ejercicios deberás usar como técnica principal la definición de listas por comprensión.\n",
        "\n",
        "### Ejercicio 2\n",
        "\n",
        "Dada una lista de números naturales, devuelve la suma de los cuadrados de los números pares de la lista.\n",
        "\n",
        "Pista: busca que hace la función ``sum``."
      ]
    },
    {
      "cell_type": "code",
      "execution_count": 56,
      "metadata": {
        "id": "EZIVut3g1s3Q",
        "outputId": "3b3343ec-1ee3-402a-cd5c-6033c5f904c9",
        "colab": {
          "base_uri": "https://localhost:8080/"
        }
      },
      "outputs": [
        {
          "output_type": "stream",
          "name": "stdout",
          "text": [
            "Success: no issues found in 1 source file\n",
            "\n"
          ]
        }
      ],
      "source": [
        "%%typecheck\n",
        "def suma_cuadrados(lista:list[int])->int:\n",
        "    return sum([x*x for x in lista if x%2 == 0])"
      ]
    },
    {
      "cell_type": "markdown",
      "metadata": {
        "id": "vmpahQeC1s3Y"
      },
      "source": [
        "Comprueba los tests."
      ]
    },
    {
      "cell_type": "code",
      "execution_count": 7,
      "metadata": {
        "colab": {
          "base_uri": "https://localhost:8080/"
        },
        "deletable": false,
        "editable": false,
        "id": "r40lPr7O1s3Z",
        "outputId": "33296922-7044-4f23-8ece-de83749d7f6a"
      },
      "outputs": [
        {
          "output_type": "stream",
          "name": "stdout",
          "text": [
            "El valor de suma_cuadrados es correcto\n"
          ]
        }
      ],
      "source": [
        "assert suma_cuadrados([9,4,2,6,8,1])==120, \"El valor de suma_cuadrados no es correcto\"\n",
        "assert suma_cuadrados([])==0, \"El valor de suma_cuadrados no es correcto\"\n",
        "assert suma_cuadrados([9, 4, 6, 8])==116, \"El valor de suma_cuadrados no es correcto\"\n",
        "\n",
        "print(\"El valor de suma_cuadrados es correcto\")"
      ]
    },
    {
      "cell_type": "markdown",
      "metadata": {
        "id": "Cn9opW_b1s3f"
      },
      "source": [
        "### Ejercicio 3\n",
        "\n",
        "Devuelve una lista con los números divisibles por 3 y por 5 entre los números 100 y 500."
      ]
    },
    {
      "cell_type": "code",
      "execution_count": 57,
      "metadata": {
        "id": "gixZyimd1s3h",
        "outputId": "68c755b0-0ad4-4668-a428-5e7f87fdaecb",
        "colab": {
          "base_uri": "https://localhost:8080/"
        }
      },
      "outputs": [
        {
          "output_type": "stream",
          "name": "stdout",
          "text": [
            "Success: no issues found in 1 source file\n",
            "\n"
          ]
        }
      ],
      "source": [
        "%%typecheck\n",
        "def entre_100_y_500()->list[int]:\n",
        "    return [x for x in range(100,500) if x % 3 == 0 and x % 5 == 0]"
      ]
    },
    {
      "cell_type": "markdown",
      "metadata": {
        "id": "yNQVwlp21s3p"
      },
      "source": [
        "Comprueba los tests."
      ]
    },
    {
      "cell_type": "code",
      "execution_count": 9,
      "metadata": {
        "colab": {
          "base_uri": "https://localhost:8080/"
        },
        "deletable": false,
        "editable": false,
        "id": "fCTHU47Z1s3s",
        "outputId": "03ac7fca-8047-4f8a-fed1-a6011027b1ff"
      },
      "outputs": [
        {
          "output_type": "stream",
          "name": "stdout",
          "text": [
            "El valor de entre_100_y_500 es correcto\n"
          ]
        }
      ],
      "source": [
        "assert entre_100_y_500()==[105, 120, 135, 150, 165, 180, 195, 210, 225, 240, 255, 270, 285, 300, 315, 330, 345, 360, 375, 390, 405, 420, 435, 450, 465, 480, 495], \"El valor de entre_100_y_500 no es correcto\"\n",
        "print(\"El valor de entre_100_y_500 es correcto\")"
      ]
    },
    {
      "cell_type": "markdown",
      "metadata": {
        "id": "-u46C5Ou1s3w"
      },
      "source": [
        "### Ejercicio 4\n",
        "\n",
        "Dada una lista de números $l=[a(1),...,a(n)]$, calcular el sumatorio $\\sum\\limits_{i=1}^n i \\times a(i)$."
      ]
    },
    {
      "cell_type": "code",
      "execution_count": 5,
      "metadata": {
        "colab": {
          "base_uri": "https://localhost:8080/"
        },
        "id": "-l-eGloV1s3y",
        "outputId": "998be093-769b-4203-c528-525c65d89793"
      },
      "outputs": [
        {
          "output_type": "stream",
          "name": "stdout",
          "text": [
            "Success: no issues found in 1 source file\n",
            "\n"
          ]
        }
      ],
      "source": [
        "%%typecheck\n",
        "def suma_formula(lista:list[int])->int:\n",
        "    return sum([(i+1)*x for i,x in enumerate(lista)])"
      ]
    },
    {
      "cell_type": "markdown",
      "metadata": {
        "id": "Cu_O1Yu-1s35"
      },
      "source": [
        "Comprueba los tests."
      ]
    },
    {
      "cell_type": "code",
      "execution_count": 11,
      "metadata": {
        "colab": {
          "base_uri": "https://localhost:8080/"
        },
        "deletable": false,
        "editable": false,
        "id": "XoTG2nEY1s37",
        "outputId": "4ff29310-3efd-44fe-c699-97b09f121a5c"
      },
      "outputs": [
        {
          "output_type": "stream",
          "name": "stdout",
          "text": [
            "El valor de suma_formula es correcto\n"
          ]
        }
      ],
      "source": [
        "assert suma_formula([2,4,6,8,10])==110, \"El valor de suma_formula no es correcto\"\n",
        "assert suma_formula([])==0, \"El valor de suma_formula no es correcto\"\n",
        "print(\"El valor de suma_formula es correcto\")"
      ]
    },
    {
      "cell_type": "markdown",
      "metadata": {
        "id": "y2ezd-Ex1s4B"
      },
      "source": [
        "### Ejercicio 5\n",
        "\n",
        "Dadas dos listas de la misma longitud, representando dos puntos n-dimensionales, calcular la distancia euclídea entre ellos.\n",
        "\n",
        "Ayuda: puede que necesites importar el módulo ``math``."
      ]
    },
    {
      "cell_type": "code",
      "execution_count": 60,
      "metadata": {
        "id": "bE8TmeYy1s4D",
        "outputId": "95f85e16-f6e7-4081-a1de-4b4f7a5b060a",
        "colab": {
          "base_uri": "https://localhost:8080/"
        }
      },
      "outputs": [
        {
          "output_type": "stream",
          "name": "stdout",
          "text": [
            "Success: no issues found in 1 source file\n",
            "\n"
          ]
        }
      ],
      "source": [
        "%%typecheck\n",
        "import math\n",
        "def distancia(lista1:list[float],lista2:list[float])->float:\n",
        "    return math.sqrt(sum([(x-y)**2 for x,y in zip(lista1,lista2)]))"
      ]
    },
    {
      "cell_type": "markdown",
      "metadata": {
        "id": "uKuX4hWm1s4I"
      },
      "source": [
        "Comprueba los tests."
      ]
    },
    {
      "cell_type": "code",
      "execution_count": 13,
      "metadata": {
        "colab": {
          "base_uri": "https://localhost:8080/"
        },
        "deletable": false,
        "editable": false,
        "id": "EEJgmtfE1s4K",
        "outputId": "dd0a5820-fa54-4550-bc62-fab9a96c8f76"
      },
      "outputs": [
        {
          "output_type": "stream",
          "name": "stdout",
          "text": [
            "El valor de distancia es correcto\n"
          ]
        }
      ],
      "source": [
        "assert distancia([3,1,2],[1,2,1])==2.449489742783178, \"El valor de distancia no es correcto\"\n",
        "assert distancia([5,3],[4,2])==1.4142135623730951, \"El valor de distancia no es correcto\"\n",
        "assert distancia([5,3],[5,3])==0.0, \"El valor de distancia no es correcto\"\n",
        "print(\"El valor de distancia es correcto\")"
      ]
    },
    {
      "cell_type": "markdown",
      "metadata": {
        "id": "7dD1dMCF1s4Q"
      },
      "source": [
        "### Ejercicio 6\n",
        "\n",
        "Dada una lista y una función que toma un argumento, devolver la lista de los resultados de aplicar la función a cada elemento de la lista.\n",
        "\n",
        "Ejemplo. ``map_mio(abs,[-2,-3,-4,-1])`` devuelve ``[2, 3, 4, 1]``."
      ]
    },
    {
      "cell_type": "code",
      "execution_count": 12,
      "metadata": {
        "id": "NlusXd261s4R",
        "outputId": "0b62195d-13b5-4acb-941c-935f2b1a077d",
        "colab": {
          "base_uri": "https://localhost:8080/"
        }
      },
      "outputs": [
        {
          "output_type": "stream",
          "name": "stdout",
          "text": [
            "Success: no issues found in 1 source file\n",
            "\n"
          ]
        }
      ],
      "source": [
        "%%typecheck\n",
        "from types import FunctionType\n",
        "def map_mio(fun:FunctionType,lista:list)->list:\n",
        "    return [fun(x) for x in lista]"
      ]
    },
    {
      "cell_type": "markdown",
      "metadata": {
        "id": "9rNRtP8R1s4W"
      },
      "source": [
        "Comprueba los tests."
      ]
    },
    {
      "cell_type": "code",
      "execution_count": 15,
      "metadata": {
        "colab": {
          "base_uri": "https://localhost:8080/"
        },
        "deletable": false,
        "editable": false,
        "id": "ysymWXOg1s4X",
        "outputId": "984998ff-4e62-4837-b42a-94d0410dbd2a"
      },
      "outputs": [
        {
          "output_type": "stream",
          "name": "stdout",
          "text": [
            "El valor de map_mio es correcto\n"
          ]
        }
      ],
      "source": [
        "assert map_mio(abs,[-2,-3,-4,-1])==[2, 3, 4, 1], \"El valor de map_mio no es correcto\"\n",
        "assert map_mio(math.ceil,[-2.4,3.1,-4.7,5.8])==[-2, 4, -4, 6], \"El valor de map_mio no es correcto\"\n",
        "assert map_mio(math.floor, [-2.4, 3.1, -4.7, 5.8])==[-3, 3, -5, 5], \"El valor de map_mio no es correcto\"\n",
        "print(\"El valor de map_mio es correcto\")"
      ]
    },
    {
      "cell_type": "markdown",
      "metadata": {
        "id": "T6ERhyBx1s4c"
      },
      "source": [
        "### Ejercicio 7\n",
        "\n",
        "Dadas un par de listas de la misma longitud y una función que toma dos argumentos, devolver la lista de los resultados de aplicar la función a cada par de elementos que ocupan la misma posición en las listas de entrada.\n",
        "\n",
        "Ejemplo. ``map2_mio((lambda x,y: x+y) ,[1,2,3,4],[5,2,7,9])`` devuelve ``[6, 4, 10, 13]``."
      ]
    },
    {
      "cell_type": "code",
      "execution_count": 14,
      "metadata": {
        "id": "AbPOK9HX1s4e",
        "outputId": "c30db81b-4b95-4a78-b853-f1eba5a52394",
        "colab": {
          "base_uri": "https://localhost:8080/"
        }
      },
      "outputs": [
        {
          "output_type": "stream",
          "name": "stdout",
          "text": [
            "Success: no issues found in 1 source file\n",
            "\n"
          ]
        }
      ],
      "source": [
        "%%typecheck\n",
        "from types import FunctionType\n",
        "def map2_mio(fun:FunctionType,lista1:list,lista2:list)->list:\n",
        "    return [fun(x,y) for x,y in zip(lista1,lista2)]"
      ]
    },
    {
      "cell_type": "markdown",
      "metadata": {
        "id": "iRh7kymF1s4j"
      },
      "source": [
        "Comprueba los tests."
      ]
    },
    {
      "cell_type": "code",
      "execution_count": 17,
      "metadata": {
        "colab": {
          "base_uri": "https://localhost:8080/"
        },
        "deletable": false,
        "editable": false,
        "id": "AjfUtyaR1s4k",
        "outputId": "8fab2482-619a-4798-b8cf-a104301cc013"
      },
      "outputs": [
        {
          "output_type": "stream",
          "name": "stdout",
          "text": [
            "El valor de map2_mio es correcto\n"
          ]
        }
      ],
      "source": [
        "assert map2_mio((lambda x,y: x+y) ,[1,2,3,4],[5,2,7,9])==[6, 4, 10, 13], \"El valor de map2_mio no es correcto\"\n",
        "assert map2_mio((lambda x,y: x*y) ,[1,2,3,4],[5,2,7,9])==[5, 4, 21, 36], \"El valor de map2_mio no es correcto\"\n",
        "print(\"El valor de map2_mio es correcto\")"
      ]
    },
    {
      "cell_type": "markdown",
      "metadata": {
        "id": "5SsWTBUJ1s4r"
      },
      "source": [
        "### Ejercicio 8\n",
        "\n",
        "Dadas dos listas de la misma longitud, contar el número de posiciones en las que coinciden los elementos de ambas  listas."
      ]
    },
    {
      "cell_type": "code",
      "execution_count": 15,
      "metadata": {
        "id": "Dd9kfg_i1s4t",
        "outputId": "ed17d383-11cd-481d-9cb2-f66787f61031",
        "colab": {
          "base_uri": "https://localhost:8080/"
        }
      },
      "outputs": [
        {
          "output_type": "stream",
          "name": "stdout",
          "text": [
            "Success: no issues found in 1 source file\n",
            "\n"
          ]
        }
      ],
      "source": [
        "%%typecheck\n",
        "def cuenta_coincidentes(lista1:list,lista2:list)->int:\n",
        "    return sum(x==y for x,y in zip(lista1,lista2))"
      ]
    },
    {
      "cell_type": "markdown",
      "metadata": {
        "id": "Sqa1vUNY1s4z"
      },
      "source": [
        "Comprueba los tests."
      ]
    },
    {
      "cell_type": "code",
      "execution_count": 19,
      "metadata": {
        "colab": {
          "base_uri": "https://localhost:8080/"
        },
        "deletable": false,
        "editable": false,
        "id": "q3_9fejl1s40",
        "outputId": "6f7a23ed-5ea2-45eb-f5ba-1bd284108ca8"
      },
      "outputs": [
        {
          "output_type": "stream",
          "name": "stdout",
          "text": [
            "El valor de cuenta_coincidentes es correcto\n"
          ]
        }
      ],
      "source": [
        "assert cuenta_coincidentes([4,2,6,8,9,3],[3,2,1,8,9,6])==3, \"El valor de cuenta_coincidentes no es correcto\"\n",
        "assert cuenta_coincidentes([5,1,7,9,7,1],[3,2,1,8,9,6])==0, \"El valor de cuenta_coincidentes no es correcto\"\n",
        "print(\"El valor de cuenta_coincidentes es correcto\")"
      ]
    },
    {
      "cell_type": "markdown",
      "metadata": {
        "id": "O-s37Eyt1s44"
      },
      "source": [
        "### Ejercicio 9\n",
        "\n",
        "Dadas dos listas de la misma longitud, devolver un diccionario que tiene como claves las posiciones en las que coinciden los elementos de ambas listas, y como valor de esas claves, el elemento coincidente."
      ]
    },
    {
      "cell_type": "code",
      "execution_count": 20,
      "metadata": {
        "id": "9bzm97bC1s45",
        "outputId": "5c320c50-fe81-417c-f9ef-57d884703e86",
        "colab": {
          "base_uri": "https://localhost:8080/"
        }
      },
      "outputs": [
        {
          "output_type": "stream",
          "name": "stdout",
          "text": [
            "Success: no issues found in 1 source file\n",
            "\n"
          ]
        }
      ],
      "source": [
        "%%typecheck\n",
        "def dic_posiciones_coincidentes(lista1:list,lista2:list)->dict:\n",
        "    return {i: x for i, (x, y) in enumerate(zip(lista1, lista2)) if x == y}"
      ]
    },
    {
      "cell_type": "markdown",
      "metadata": {
        "id": "umWUrPFt1s4-"
      },
      "source": [
        "Comprueba los tests."
      ]
    },
    {
      "cell_type": "code",
      "execution_count": 21,
      "metadata": {
        "colab": {
          "base_uri": "https://localhost:8080/"
        },
        "deletable": false,
        "editable": false,
        "id": "pzPUpX8e1s4_",
        "outputId": "cb158b63-f475-420e-d7b2-67afdba4420d"
      },
      "outputs": [
        {
          "output_type": "stream",
          "name": "stdout",
          "text": [
            "El valor de dic_posiciones_coincidentes es correcto\n"
          ]
        }
      ],
      "source": [
        "assert dic_posiciones_coincidentes([4,2,6,8,9,3],[3,2,1,8,9,6])=={1: 2, 3: 8, 4: 9}, \"El valor de dic_posiciones_coincidentes no es correcto\"\n",
        "assert dic_posiciones_coincidentes([2,8,1,2,1,3],[1,8,1,2,1,6])=={1: 8, 2: 1, 3: 2, 4: 1}, \"El valor de dic_posiciones_coincidentes no es correcto\"\n",
        "print(\"El valor de dic_posiciones_coincidentes es correcto\")"
      ]
    },
    {
      "cell_type": "markdown",
      "metadata": {
        "id": "IBHSWmsp1s5C"
      },
      "source": [
        "### Ejercicio 10\n",
        "\n",
        "Un número es perfecto si es la suma de todos sus divisores (excepto él mismo). Definir una función ``filtra_perfectos(n,m,p)`` que devuelve una lista con todos los números perfectos entre ``n`` y ``m`` que cumplen la condición ``p``."
      ]
    },
    {
      "cell_type": "code",
      "execution_count": 31,
      "metadata": {
        "id": "K0842Ag21s5D",
        "outputId": "584e3c3d-fd64-455d-c52b-d8603faa8196",
        "colab": {
          "base_uri": "https://localhost:8080/"
        }
      },
      "outputs": [
        {
          "output_type": "stream",
          "name": "stdout",
          "text": [
            "Success: no issues found in 1 source file\n",
            "\n"
          ]
        }
      ],
      "source": [
        "%%typecheck\n",
        "def filtra_perfectos(n:int,m:int,p)->list[int]:\n",
        "    return [x for x in range(n,m)\n",
        "      if p(x) and sum(y for y in range(1,x) if x % y == 0) == x]"
      ]
    },
    {
      "cell_type": "markdown",
      "metadata": {
        "id": "JXmsJONG1s5G"
      },
      "source": [
        "Comprueba los tests."
      ]
    },
    {
      "cell_type": "code",
      "execution_count": 23,
      "metadata": {
        "colab": {
          "base_uri": "https://localhost:8080/"
        },
        "deletable": false,
        "editable": false,
        "id": "GGx6icZQ1s5I",
        "outputId": "9b742636-82c9-4619-96f0-49a641fd6742"
      },
      "outputs": [
        {
          "output_type": "stream",
          "name": "stdout",
          "text": [
            "El valor de filtra_perfectos es correcto\n"
          ]
        }
      ],
      "source": [
        "assert filtra_perfectos(3,500, lambda x: True)==[6, 28, 496], \"El valor de filtra_perfectos no es correcto\"\n",
        "assert filtra_perfectos(3, 500, lambda x: (x%7==0))==[28], \"El valor de filtra_perfectos no es correcto\"\n",
        "print(\"El valor de filtra_perfectos es correcto\")"
      ]
    },
    {
      "cell_type": "markdown",
      "metadata": {
        "id": "vD61iXz61s5M"
      },
      "source": [
        "### Ejercicio 11\n",
        "\n",
        "Define una función que tome como parámetros un fichero, que por defecto será el fichero 'alice.txt' y una palabra, y cuente el número de apariciones de dicha palabra en el texto. El conteo no será sensible a mayúsculas y minúsculas, es decir Alice y alice se consideran la misma palabra.\n",
        "\n",
        "Como primer paso es necesario reemplazar en el texto todas las ocurrencias de los caracteres de la lista ``['\\'', '`', ',', '?', '!', ')', '(', '--', '.', ';',':','\\n','-']`` por un espacio en blanco.\n",
        "\n",
        "Para este ejercicio no es necesario que uses listas por comprensión."
      ]
    },
    {
      "cell_type": "code",
      "execution_count": 34,
      "metadata": {
        "id": "sFJ8BlkE1s5P",
        "outputId": "daf0377e-1f90-40cc-e211-1c4098605d78",
        "colab": {
          "base_uri": "https://localhost:8080/"
        }
      },
      "outputs": [
        {
          "output_type": "stream",
          "name": "stdout",
          "text": [
            "Success: no issues found in 1 source file\n",
            "\n"
          ]
        }
      ],
      "source": [
        "%%typecheck\n",
        "def cuenta_palabras(palabra:str,fichero:str='alice.txt')->int:\n",
        "    blackList = ['\\'', '`', ',', '?', '!', ')', '(', '--', '.', ';',':','\\n','-']\n",
        "    contador = 0\n",
        "    palabra = palabra.lower()\n",
        "    for linea in open(fichero):\n",
        "      for char in blackList:\n",
        "        linea = linea.replace(char, ' ')\n",
        "      palabras = linea.lower().split()\n",
        "      contador += palabras.count(palabra)\n",
        "    return contador"
      ]
    },
    {
      "cell_type": "markdown",
      "metadata": {
        "id": "eY79VYbz1s5T"
      },
      "source": [
        "Con el siguiente comando se descarga el fichero de ``alice.txt`` desde el repositorio de GitHub."
      ]
    },
    {
      "cell_type": "code",
      "execution_count": 25,
      "metadata": {
        "colab": {
          "base_uri": "https://localhost:8080/"
        },
        "id": "lGN0K06_1s5U",
        "outputId": "972a2f5a-d63d-4ad7-dfcb-4b7dedf88e38"
      },
      "outputs": [
        {
          "output_type": "stream",
          "name": "stdout",
          "text": [
            "--2025-02-16 19:46:21--  https://raw.githubusercontent.com/IA1920/Utils/master/alice.txt\n",
            "Resolving raw.githubusercontent.com (raw.githubusercontent.com)... 185.199.110.133, 185.199.109.133, 185.199.111.133, ...\n",
            "Connecting to raw.githubusercontent.com (raw.githubusercontent.com)|185.199.110.133|:443... connected.\n",
            "HTTP request sent, awaiting response... 200 OK\n",
            "Length: 148575 (145K) [text/plain]\n",
            "Saving to: ‘alice.txt’\n",
            "\n",
            "alice.txt           100%[===================>] 145.09K  --.-KB/s    in 0.03s   \n",
            "\n",
            "2025-02-16 19:46:22 (4.30 MB/s) - ‘alice.txt’ saved [148575/148575]\n",
            "\n"
          ]
        }
      ],
      "source": [
        "!wget https://raw.githubusercontent.com/IA1920/Utils/master/alice.txt"
      ]
    },
    {
      "cell_type": "markdown",
      "metadata": {
        "id": "BqxCNQJs1s5X"
      },
      "source": [
        "Comprueba los tests."
      ]
    },
    {
      "cell_type": "code",
      "execution_count": 26,
      "metadata": {
        "colab": {
          "base_uri": "https://localhost:8080/"
        },
        "deletable": false,
        "editable": false,
        "id": "B66MJViz1s5Z",
        "outputId": "d34161fa-ed49-47ea-9190-e2643fd2255f"
      },
      "outputs": [
        {
          "output_type": "stream",
          "name": "stdout",
          "text": [
            "El valor de cuenta_palabras es correcto\n"
          ]
        }
      ],
      "source": [
        "assert cuenta_palabras('alice')==399, \"El valor de cuenta_palabras no es correcto\"\n",
        "assert cuenta_palabras('rabbit')==51, \"El valor de cuenta_palabras no es correcto\"\n",
        "print(\"El valor de cuenta_palabras es correcto\")"
      ]
    },
    {
      "cell_type": "markdown",
      "metadata": {
        "id": "xD9hRwvr1s5c"
      },
      "source": [
        "### Ejercicio 12\n",
        "\n",
        "Define una clase Rectangulo que toma como parámetros del constructor la tupla ``(x,y)``, que indican la posición de la esquina superior izquierda, y dos reales ``w`` y ``h`` que proporcionan respectivamente la anchura y la altura del rectángulo. La clase ``Rectangulo`` debe implementar los métodos: area, perimetro y redefinir el método ``__eq__`` de la clase object."
      ]
    },
    {
      "cell_type": "code",
      "execution_count": 41,
      "metadata": {
        "id": "Xk-Pjka91s5d",
        "outputId": "7be29886-6741-4fdf-a8d9-d29f53cac6ff",
        "colab": {
          "base_uri": "https://localhost:8080/"
        }
      },
      "outputs": [
        {
          "output_type": "stream",
          "name": "stdout",
          "text": [
            "Success: no issues found in 1 source file\n",
            "\n"
          ]
        }
      ],
      "source": [
        "%%typecheck\n",
        "class Rectangulo(object):\n",
        "    def __init__(self,xy:tuple[int,int],w:int,h:int):\n",
        "        self.x, self.y = xy\n",
        "        self.w  = w\n",
        "        self.h = h\n",
        "\n",
        "    def area(self)->int:\n",
        "      return self.w * self.h\n",
        "\n",
        "    def perimetro(self)->int:\n",
        "     return 2*(self.w + self.h)\n",
        "\n",
        "     def __eq__(self, other: object)->bool:\n",
        "        return self.x==other.x and self.y==other.y and self.w==other.w and self.h==other.h"
      ]
    },
    {
      "cell_type": "markdown",
      "metadata": {
        "id": "cgIsyxx31s5h"
      },
      "source": [
        "Comprueba los tests. Si al ejecutar la siguiente celda no se muestra nada, eso significa que se pasan los tests."
      ]
    },
    {
      "cell_type": "code",
      "execution_count": 28,
      "metadata": {
        "deletable": false,
        "editable": false,
        "id": "B8ZJdHQU1s5i"
      },
      "outputs": [],
      "source": [
        "r1 = Rectangulo((0,0),5,5)\n",
        "r2 = Rectangulo((0, 0), 5, 10)\n",
        "assert(r1.area() == 25)\n",
        "assert(r1.perimetro() == 20)\n",
        "assert(not(r1 ==r2))"
      ]
    },
    {
      "cell_type": "markdown",
      "metadata": {
        "id": "dFyvr0pf1s5m"
      },
      "source": [
        "## Ejercicios de ampliación I (1.5 puntos)\n",
        "\n"
      ]
    },
    {
      "cell_type": "markdown",
      "metadata": {
        "id": "orx1E3C_1s5o"
      },
      "source": [
        "En los siguientes ejercicios debes utilizar listas por comprensión.\n",
        "\n",
        "### Ejercicio 13\n",
        "\n",
        "Define una función que cree un diccionario a partir de un string donde las claves del diccionario sean las letras\n",
        "del alfabeto, y el valor para cada una de esas claves es el número de ocurrencias de esa letra en el string sin\n",
        "distinguir entre mayúsculas y minúsculas."
      ]
    },
    {
      "cell_type": "code",
      "execution_count": 43,
      "metadata": {
        "id": "O-wxChOO1s5o",
        "outputId": "dd9b3414-ce61-4593-b5e5-1508d2c77862",
        "colab": {
          "base_uri": "https://localhost:8080/"
        }
      },
      "outputs": [
        {
          "output_type": "stream",
          "name": "stdout",
          "text": [
            "Success: no issues found in 1 source file\n",
            "\n"
          ]
        }
      ],
      "source": [
        "%%typecheck\n",
        "import string\n",
        "def crear_diccionario_de_string(s:str)->dict[str,int]:\n",
        "    return {X : s.lower().count(X) for X in string.ascii_lowercase}"
      ]
    },
    {
      "cell_type": "markdown",
      "source": [],
      "metadata": {
        "id": "eZ1TUnSHgnrE"
      }
    },
    {
      "cell_type": "markdown",
      "metadata": {
        "id": "f2UL6x1E1s5s"
      },
      "source": [
        "Comprueba los tests."
      ]
    },
    {
      "cell_type": "code",
      "execution_count": 30,
      "metadata": {
        "deletable": false,
        "editable": false,
        "id": "Zd8CFKeQ1s5t"
      },
      "outputs": [],
      "source": [
        "dic2=crear_diccionario_de_string(\"hola adios\")\n",
        "assert(dic2['a'] == 2)\n",
        "assert(dic2['b'] == 0)\n",
        "assert(dic2['h'] == 1)\n",
        "assert(dic2['o'] == 2)\n",
        "assert(dic2['l'] == 1)\n",
        "assert(dic2['z'] == 0)"
      ]
    },
    {
      "cell_type": "markdown",
      "metadata": {
        "id": "gUiaKTUh1s5w"
      },
      "source": [
        "### Ejercicio 14\n",
        "\n",
        "Define una función por comprensión que devuelve el número de apariciones de un elemento x en la lista l."
      ]
    },
    {
      "cell_type": "code",
      "execution_count": 45,
      "metadata": {
        "id": "iJHrZlKJ1s5x",
        "outputId": "c0d7a169-f68a-489a-f8d6-f37140b2865d",
        "colab": {
          "base_uri": "https://localhost:8080/"
        }
      },
      "outputs": [
        {
          "output_type": "stream",
          "name": "stdout",
          "text": [
            "Success: no issues found in 1 source file\n",
            "\n"
          ]
        }
      ],
      "source": [
        "%%typecheck\n",
        "from typing import TypeVar\n",
        "T = TypeVar('T')\n",
        "def incidencias(x: T, l: list[T]) -> int:\n",
        "    return sum(1 for y in l if x == y)\n"
      ]
    },
    {
      "cell_type": "markdown",
      "metadata": {
        "id": "f3MJEx_I1s50"
      },
      "source": [
        "Comprueba los tests."
      ]
    },
    {
      "cell_type": "code",
      "execution_count": 32,
      "metadata": {
        "colab": {
          "base_uri": "https://localhost:8080/"
        },
        "deletable": false,
        "editable": false,
        "id": "Tt84Ka3U1s51",
        "outputId": "6c4a9c34-bbbd-4e7f-934b-85d01b48511d"
      },
      "outputs": [
        {
          "output_type": "stream",
          "name": "stdout",
          "text": [
            "El valor de incidencias es correcto\n"
          ]
        }
      ],
      "source": [
        "assert incidencias(0,[])==0, \"El valor de incidencias no es correcto\"\n",
        "assert incidencias(0, [0,1,0,10,0])==3, \"El valor de incidencias no es correcto\"\n",
        "assert incidencias(1, [0, 1, 0, 10, 0])==1, \"El valor de incidencias no es correcto\"\n",
        "assert incidencias(10, [0, 1, 0, 10, 0])==1, \"El valor de incidencias no es correcto\"\n",
        "print(\"El valor de incidencias es correcto\")"
      ]
    },
    {
      "cell_type": "markdown",
      "metadata": {
        "id": "Och14nQ01s54"
      },
      "source": [
        "### Ejercicio 15\n",
        "\n",
        "Define una función por comprensión que devuelve verdad si todos los elementos de una lista son pares y falso en caso contrario. En caso de que la lista este vacía, devolverá verdad."
      ]
    },
    {
      "cell_type": "code",
      "execution_count": 46,
      "metadata": {
        "id": "wx3DhTFm1s55",
        "outputId": "0623aed7-da9f-4cf2-876c-f517633f2c2d",
        "colab": {
          "base_uri": "https://localhost:8080/"
        }
      },
      "outputs": [
        {
          "output_type": "stream",
          "name": "stdout",
          "text": [
            "Success: no issues found in 1 source file\n",
            "\n"
          ]
        }
      ],
      "source": [
        "%%typecheck\n",
        "def todos_pares(l:list[int])->bool:\n",
        "    return all([x % 2 == 0 for x in l])"
      ]
    },
    {
      "cell_type": "markdown",
      "metadata": {
        "id": "Y5SZkx5K1s6C"
      },
      "source": [
        "Comprueba los tests."
      ]
    },
    {
      "cell_type": "code",
      "execution_count": 34,
      "metadata": {
        "colab": {
          "base_uri": "https://localhost:8080/"
        },
        "deletable": false,
        "editable": false,
        "id": "rU4HnkZ81s6C",
        "outputId": "5a2d4f49-fc34-46e6-a7a3-d7dcf4b48b0a"
      },
      "outputs": [
        {
          "output_type": "stream",
          "name": "stdout",
          "text": [
            "El valor de todos_pares es correcto\n"
          ]
        }
      ],
      "source": [
        "assert todos_pares([])==True, \"El valor de todos_pares no es correcto\"\n",
        "assert todos_pares([1])==False, \"El valor de todos_pares no es correcto\"\n",
        "assert todos_pares([2,4,6,8,10,1])==False, \"El valor de todos_pares no es correcto\"\n",
        "assert todos_pares([2, 4, 6, 8, 10])==True, \"El valor de todos_pares no es correcto\"\n",
        "print(\"El valor de todos_pares es correcto\")"
      ]
    },
    {
      "cell_type": "markdown",
      "metadata": {
        "id": "FWNPvl0G1s6G"
      },
      "source": [
        "### Ejercicio 16\n",
        "\n",
        "Define una función por comprensión que devuelve verdad si algún elemento de una lista es impar y falso\n",
        "en caso contrario. En caso de que la lista este vacía, devolverá falso."
      ]
    },
    {
      "cell_type": "code",
      "execution_count": 48,
      "metadata": {
        "id": "XO_BGLTk1s6G",
        "outputId": "ece1a7cc-c940-4811-ba20-4fbdfae70365",
        "colab": {
          "base_uri": "https://localhost:8080/"
        }
      },
      "outputs": [
        {
          "output_type": "stream",
          "name": "stdout",
          "text": [
            "Success: no issues found in 1 source file\n",
            "\n"
          ]
        }
      ],
      "source": [
        "%%typecheck\n",
        "def algun_impar(l:list[int])->int:\n",
        "  return any(x % 2 != 0 for x in l)"
      ]
    },
    {
      "cell_type": "markdown",
      "metadata": {
        "id": "GtQlkVDn1s6N"
      },
      "source": [
        "Comprueba los tests."
      ]
    },
    {
      "cell_type": "code",
      "execution_count": 36,
      "metadata": {
        "colab": {
          "base_uri": "https://localhost:8080/"
        },
        "deletable": false,
        "editable": false,
        "id": "glXYH3hm1s6O",
        "outputId": "1f7d2121-cc7d-477c-d860-c43be618f572"
      },
      "outputs": [
        {
          "output_type": "stream",
          "name": "stdout",
          "text": [
            "El valor de algun_impar es correcto\n"
          ]
        }
      ],
      "source": [
        "assert algun_impar([])==False, \"El valor de algun_impar no es correcto\"\n",
        "assert algun_impar([1])==True, \"El valor de algun_impar no es correcto\"\n",
        "assert algun_impar([2,4,6,8,10,1])==True, \"El valor de algun_impar no es correcto\"\n",
        "assert algun_impar([2, 4, 6, 8, 10])==False, \"El valor de algun_impar no es correcto\"\n",
        "print(\"El valor de algun_impar es correcto\")"
      ]
    },
    {
      "cell_type": "markdown",
      "metadata": {
        "id": "jz6oxDBY1s6Y"
      },
      "source": [
        "## Ejercicios de ampliación II (2 puntos)\n",
        "\n",
        "Retomamos nuestro ejemplo del código genético visto en la práctica 1.\n",
        "\n",
        "Recupera el método que dada una secuencia de ADN (un string) que contiene las letras A, C, G, y T  nos devuelve cuántas veces aparece una cierta base en dicha secuencia."
      ]
    },
    {
      "cell_type": "code",
      "execution_count": 51,
      "metadata": {
        "id": "-lh1ztjV1s6Z",
        "outputId": "e94b6236-740b-43fa-c0cd-93c1588e0de8",
        "colab": {
          "base_uri": "https://localhost:8080/"
        }
      },
      "outputs": [
        {
          "output_type": "stream",
          "name": "stdout",
          "text": [
            "Success: no issues found in 1 source file\n",
            "\n"
          ]
        }
      ],
      "source": [
        "%%typecheck\n",
        "def cuenta(adn:str, base:str)->int:\n",
        "    return adn.count(base)"
      ]
    },
    {
      "cell_type": "markdown",
      "metadata": {
        "id": "FhQ98gAw1s6g"
      },
      "source": [
        "Define una función con un comportamiento análogo al anterior pero utilizando listas por comprensión."
      ]
    },
    {
      "cell_type": "code",
      "execution_count": 56,
      "metadata": {
        "id": "TtfS6dV61s6h",
        "outputId": "f3c69071-ff2c-4a46-c2f7-801f86c34ad7",
        "colab": {
          "base_uri": "https://localhost:8080/"
        }
      },
      "outputs": [
        {
          "output_type": "stream",
          "name": "stdout",
          "text": [
            "Success: no issues found in 1 source file\n",
            "\n"
          ]
        }
      ],
      "source": [
        "%%typecheck\n",
        "def cuenta_comprension(adn:str, base:str)->int:\n",
        "    return sum([x == base for x in adn])"
      ]
    },
    {
      "cell_type": "markdown",
      "metadata": {
        "id": "KfxVEBTG1s6k"
      },
      "source": [
        "Comprueba los tests."
      ]
    },
    {
      "cell_type": "code",
      "execution_count": 39,
      "metadata": {
        "colab": {
          "base_uri": "https://localhost:8080/"
        },
        "deletable": false,
        "editable": false,
        "id": "O0pODR2p1s6l",
        "outputId": "b0de44cc-f22f-446e-faa3-f65edde679f6"
      },
      "outputs": [
        {
          "output_type": "stream",
          "name": "stdout",
          "text": [
            "La función cuenta_comprension está bien definida\n"
          ]
        }
      ],
      "source": [
        "assert cuenta_comprension('ATGGCATTA', 'A')==3, \"La función cuenta no está bien definida\"\n",
        "assert cuenta_comprension('ATGGCATTA', 'T')==3, \"La función cuenta no está bien definida\"\n",
        "assert cuenta_comprension('ATGGCATTA', 'G')==2, \"La función cuenta no está bien definida\"\n",
        "assert cuenta_comprension('ATGGCATTA', 'C')==1, \"La función cuenta no está bien definida\"\n",
        "assert cuenta_comprension('ATGGCATTA', 'D')==0, \"La función cuenta no está bien definida\"\n",
        "assert cuenta_comprension('AAATTTGGGCCCCGTA', 'A')==4, \"La función cuenta no está bien definida\"\n",
        "assert cuenta_comprension('AAATTTGGGCCCCGTA', 'C')==4, \"La función cuenta no está bien definida\"\n",
        "assert cuenta_comprension('AAATTTGGGCCCCGTA', 'G')==4, \"La función cuenta no está bien definida\"\n",
        "\n",
        "print(\"La función cuenta_comprension está bien definida\")"
      ]
    },
    {
      "cell_type": "markdown",
      "metadata": {
        "id": "KlkG1Gjn1s6n"
      },
      "source": [
        "A continuación vamos a comparar la eficiencia de estos dos métodos. Para ello lo primero que debes hacer es recuperar el método que genera secuencias aleatorias de ADN."
      ]
    },
    {
      "cell_type": "code",
      "execution_count": 50,
      "metadata": {
        "id": "SdDhYx0x1s6o",
        "outputId": "61dc0ebf-812c-4394-f84a-6c3279ca3c4a",
        "colab": {
          "base_uri": "https://localhost:8080/"
        }
      },
      "outputs": [
        {
          "output_type": "stream",
          "name": "stdout",
          "text": [
            "Success: no issues found in 1 source file\n",
            "\n"
          ]
        }
      ],
      "source": [
        "%%typecheck\n",
        "import random as rdm\n",
        "def genera_adn(tam:int)->str:\n",
        "  adn =  ''\n",
        "  ACGT = ['A','C','G','P']\n",
        "  for x in range(tam):\n",
        "      adn += ACGT[rdm.randrange(4)]\n",
        "  return adn"
      ]
    },
    {
      "cell_type": "markdown",
      "metadata": {
        "id": "Fxc5lmWF1s6s"
      },
      "source": [
        "Para medir el tiempo que le cuesta ejecutarse a un programa puedes utilizar la [celda mágica](https://ipython.readthedocs.io/en/stable/interactive/magics.html) ``timeit`` del siguiente modo."
      ]
    },
    {
      "cell_type": "code",
      "execution_count": 41,
      "metadata": {
        "colab": {
          "base_uri": "https://localhost:8080/"
        },
        "id": "Q_TYVqad1s6s",
        "outputId": "a96e8323-656f-498f-d8d6-d90ead5cb704"
      },
      "outputs": [
        {
          "output_type": "stream",
          "name": "stdout",
          "text": [
            "12.7 ns ± 1.12 ns per loop (mean ± std. dev. of 7 runs, 100000000 loops each)\n"
          ]
        }
      ],
      "source": [
        "%%timeit\n",
        "3+2"
      ]
    },
    {
      "cell_type": "markdown",
      "metadata": {
        "id": "Vmlp4vGq1s6v"
      },
      "source": [
        "Genera una secuencia aleatoria de adn de 10000000 de componentes y compara el tiempo de ejecución de los dos métodos cuenta. ¿Cuál es más rápido?"
      ]
    },
    {
      "cell_type": "code",
      "execution_count": null,
      "metadata": {
        "id": "v5NcxAgB1s6w"
      },
      "outputs": [],
      "source": [
        "%%timeit\n",
        "cuenta(genera_adn(10000000), 'A')"
      ]
    },
    {
      "cell_type": "code",
      "execution_count": null,
      "metadata": {
        "id": "osSV9DZE1s60"
      },
      "outputs": [],
      "source": [
        "%%timeit\n",
        "cuenta_comprension(genera_adn(10000000), 'A')"
      ]
    },
    {
      "cell_type": "markdown",
      "metadata": {
        "id": "wWty9qAd1s62"
      },
      "source": [
        "Recuperamos ahora el ejercicio que calcular la frecuencia en la que aparece cada letra en cada posición de una lista de secuencias (todas las secuencias de la lista tienen el mismo número de elementos).\n",
        "\n",
        "El resultado en este caso será un diccionario en lugar de una tupla de listas. Por ejemplo, dada la lista de secuencias ``['ATGACT', 'AACTGT', 'GGCTAT']`` el resultado sería el diccionario: ``{'A' : [2,1,0,1,1,0], 'C':[0,0,2,0,1,0], 'G':[1,1,1,0,1,0], 'T':[0,1,0,1,0,3]}``."
      ]
    },
    {
      "cell_type": "code",
      "execution_count": 57,
      "metadata": {
        "id": "Lr8Ylf9t1s63",
        "outputId": "9477b0ea-6553-4856-da80-5941970607f7",
        "colab": {
          "base_uri": "https://localhost:8080/"
        }
      },
      "outputs": [
        {
          "output_type": "stream",
          "name": "stdout",
          "text": [
            "Success: no issues found in 1 source file\n",
            "\n"
          ]
        }
      ],
      "source": [
        "%%typecheck\n",
        "def frecuencias_dic(lista_adns:list[str])->dict[str,list[int]]:\n",
        "    result = {'A': [0] * len(lista_adns[0]),\n",
        "                   'C': [0] * len(lista_adns[0]),\n",
        "                   'G': [0] * len(lista_adns[0]),\n",
        "                   'T': [0] * len(lista_adns[0])}\n",
        "\n",
        "    for adn in lista_adns:\n",
        "        for i, e in enumerate(adn):\n",
        "            if e in result:\n",
        "                result[e][i] += 1\n",
        "\n",
        "    return result"
      ]
    },
    {
      "cell_type": "markdown",
      "metadata": {
        "id": "InzwBaUn1s6-"
      },
      "source": [
        "Comprueba los tests."
      ]
    },
    {
      "cell_type": "code",
      "execution_count": 46,
      "metadata": {
        "deletable": false,
        "editable": false,
        "id": "1gkzvRQ71s6_"
      },
      "outputs": [],
      "source": [
        "assert(frecuencias_dic(['ATGACT', 'AACTGT', 'GGCTAT'])['A'] == [2, 1, 0, 1, 1, 0])\n",
        "assert(frecuencias_dic(['ATGACT', 'AACTGT', 'GGCTAT'])['C'] == [0, 0, 2, 0, 1, 0])\n",
        "assert(frecuencias_dic(['ATGACT', 'AACTGT', 'GGCTAT'])['G'] == [1, 1, 1, 0, 1, 0])\n",
        "assert(frecuencias_dic(['ATGACT', 'AACTGT', 'GGCTAT'])['T'] == [0, 1, 0, 2, 0, 3])\n",
        "assert(frecuencias_dic(['GGGAGATGAT', 'TTTCCGATTA', 'AAGCACCGTC', 'TGATTAACGA', 'CTGACGGGTG', 'CGTTGGCATA', 'GCCTCTGCGA', 'ATCTACTGCG', 'AGTAACCTCC', 'CGGCTAAGGC'])['A'] ==\n",
        "                [3, 1, 1, 3, 3, 3, 3, 1, 1, 4])\n",
        "assert(frecuencias_dic(\n",
        "                ['GGGAGATGAT', 'TTTCCGATTA', 'AAGCACCGTC', 'TGATTAACGA', 'CTGACGGGTG', 'CGTTGGCATA', 'GCCTCTGCGA',\n",
        "                 'ATCTACTGCG', 'AGTAACCTCC', 'CGGCTAAGGC'])['C']  == [3, 1, 2, 3, 3, 3, 3, 2, 2, 3])\n",
        "assert(frecuencias_dic(\n",
        "                ['GGGAGATGAT', 'TTTCCGATTA', 'AAGCACCGTC', 'TGATTAACGA', 'CTGACGGGTG', 'CGTTGGCATA', 'GCCTCTGCGA',\n",
        "                 'ATCTACTGCG', 'AGTAACCTCC', 'CGGCTAAGGC'])['G']  ==\n",
        "                                      [2, 5, 4, 0, 2, 3, 2, 5, 3, 2])\n",
        "assert(frecuencias_dic(\n",
        "                ['GGGAGATGAT', 'TTTCCGATTA', 'AAGCACCGTC', 'TGATTAACGA', 'CTGACGGGTG', 'CGTTGGCATA', 'GCCTCTGCGA',\n",
        "                 'ATCTACTGCG', 'AGTAACCTCC', 'CGGCTAAGGC'])['T']  == [2, 3, 3, 4, 2, 1, 2, 2, 4, 1])"
      ]
    },
    {
      "cell_type": "markdown",
      "metadata": {
        "id": "9lBmGs_s1s7C"
      },
      "source": [
        "A continuación vamos a ver cómo descargar un fichero que contiene un mapeo de códigos genéticos a aminoácidos, y procesar dicho fichero.\n",
        "\n",
        "El formato del fichero se parece a lo siguiente:\n",
        "\n",
        "| Código | Aminoácido (1 letra)  | Aminoácido (3 letras)  | Aminoácido (nombre completo) |\n",
        "|-------|-------|-------|-------|\n",
        "| UUU   |  F |      Phe |    Phenylalanine |\n",
        "| UUC   |  F |      Phe |    Phenylalanine |\n",
        "| UUA   |  L |      Leu |    Leucine |\n",
        "| UUG   |  L |      Leu |    Leucine |\n",
        "| CUU   |  L |      Leu |    Leucine |\n",
        "| CUC   |  L |      Leu |    Leucine |\n",
        "| CUA   |  L |      Leu |    Leucine |\n",
        "| CUG   |  L |      Leu |    Leucine |\n",
        "| AUU   |  I |      Ile |    Isoleucine |\n",
        "| AUC   |  I |      Ile |    Isoleucine |\n",
        "| AUA   |  I |      Ile |    Isoleucine |\n",
        "| AUG   |  M |      Met |    Methionine (Start)|\n",
        "\n",
        "Define una función descarga que dada una urlbase y un nombre de fichero descargue el fichero y lo almacene con el mismo nombre. Por ejemplo, si queremos descargar el fichero almacenado en: http://hplgit.github.io/bioinf-py/data/genetic_code.tsv deberíamos invocar a la función: ``descarga('http://hplgit.github.io/bioinf-py/data/','genetic_code.tsv')`` y deberíamos almacenar el fichero con el nombre ``genetic_code.tsv``. Si ya existe un fichero con ese nombre, el método debe lanzar una excepción.\n",
        "\n",
        "Pistas:\n",
        "- Para comprobar si un fichero existe, puedes utilizar alguno de los métodos de [os.path](https://docs.python.org/3/library/os.path.html).\n",
        "- Para descargar un fichero de una url puedes usar la librería [urllib](https://docs.python.org/3/library/urllib.html) y el método ``urlretrieve``."
      ]
    },
    {
      "cell_type": "code",
      "execution_count": 58,
      "metadata": {
        "id": "xxd6GnTY1s7D",
        "outputId": "ff68511c-6996-4bf5-916a-72843f575f1f",
        "colab": {
          "base_uri": "https://localhost:8080/"
        }
      },
      "outputs": [
        {
          "output_type": "stream",
          "name": "stdout",
          "text": [
            "Success: no issues found in 1 source file\n",
            "\n"
          ]
        }
      ],
      "source": [
        "%%typecheck\n",
        "from urllib.request import urlretrieve\n",
        "from os.path import exists\n",
        "def descarga(urlbase:str,filename:str):\n",
        "    if exists(filename):\n",
        "        raise Exception(\"El fichero ya existe\")\n",
        "    urlretrieve(urlbase + filename, filename)"
      ]
    },
    {
      "cell_type": "markdown",
      "metadata": {
        "id": "Wgfp0k4y1s7F"
      },
      "source": [
        "Por último definimos una función que dado un nombre de fichero que contenta el mapéo de códigos genéticos a aminoácidos, cree un diccionario que para cada código genético almacene su nombre completo."
      ]
    },
    {
      "cell_type": "code",
      "execution_count": 60,
      "metadata": {
        "id": "AUc10gLU1s7G",
        "outputId": "c7ea5cb9-2375-4915-e563-7094528741cb",
        "colab": {
          "base_uri": "https://localhost:8080/"
        }
      },
      "outputs": [
        {
          "output_type": "stream",
          "name": "stdout",
          "text": [
            "Success: no issues found in 1 source file\n",
            "\n"
          ]
        }
      ],
      "source": [
        "%%typecheck\n",
        "from urllib.request import urlretrieve\n",
        "from os.path import exists\n",
        "def codigos_to_aminoacidos(filename:str)->dict[str,str]:\n",
        "    if not exists(filename):\n",
        "        raise Exception(\"El fichero no existe\")\n",
        "    f = open(filename)\n",
        "    result = {}\n",
        "    for line in f:\n",
        "      parts = line.split(\"\t\")\n",
        "      result.update({parts[0]: parts[3].strip().replace(\"\\n\",\"\")})\n",
        "    return result"
      ]
    },
    {
      "cell_type": "markdown",
      "metadata": {
        "id": "8gChGoui1s7J"
      },
      "source": [
        "Comprueba los tests."
      ]
    },
    {
      "cell_type": "code",
      "execution_count": 2,
      "metadata": {
        "id": "BA2QyxuiSFcj",
        "outputId": "172506a7-79fe-4b83-8ffe-e2f2dc6bb62e",
        "colab": {
          "base_uri": "https://localhost:8080/"
        }
      },
      "outputs": [
        {
          "output_type": "stream",
          "name": "stdout",
          "text": [
            "Collecting nose\n",
            "  Downloading nose-1.3.7-py3-none-any.whl.metadata (1.7 kB)\n",
            "Downloading nose-1.3.7-py3-none-any.whl (154 kB)\n",
            "\u001b[?25l   \u001b[90m━━━━━━━━━━━━━━━━━━━━━━━━━━━━━━━━━━━━━━━━\u001b[0m \u001b[32m0.0/154.7 kB\u001b[0m \u001b[31m?\u001b[0m eta \u001b[36m-:--:--\u001b[0m\r\u001b[2K   \u001b[91m━━━━━━━━━━━━━━━━━━━━━━━━━━━━━━━━━━━━━━━\u001b[0m\u001b[91m╸\u001b[0m \u001b[32m153.6/154.7 kB\u001b[0m \u001b[31m4.8 MB/s\u001b[0m eta \u001b[36m0:00:01\u001b[0m\r\u001b[2K   \u001b[90m━━━━━━━━━━━━━━━━━━━━━━━━━━━━━━━━━━━━━━━━\u001b[0m \u001b[32m154.7/154.7 kB\u001b[0m \u001b[31m3.0 MB/s\u001b[0m eta \u001b[36m0:00:00\u001b[0m\n",
            "\u001b[?25hInstalling collected packages: nose\n",
            "Successfully installed nose-1.3.7\n"
          ]
        }
      ],
      "source": [
        "!pip install nose"
      ]
    },
    {
      "cell_type": "code",
      "execution_count": 47,
      "metadata": {
        "deletable": false,
        "editable": false,
        "id": "YH4UwORG1s7J"
      },
      "outputs": [],
      "source": [
        "import os\n",
        "from nose.tools import assert_raises\n",
        "\n",
        "if os.path.exists('genetic_code.tsv'):\n",
        "    os.remove('genetic_code.tsv')\n",
        "\n",
        "descarga('http://hplgit.github.io/bioinf-py/data/', 'genetic_code.tsv')\n",
        "assert(os.path.exists('genetic_code.tsv'))\n",
        "\n",
        "assert_raises(Exception, descarga, 'http://hplgit.github.io/bioinf-py/data/', 'genetic_code.tsv')\n",
        "\n",
        "diccionario = codigos_to_aminoacidos('genetic_code.tsv')\n",
        "assert(diccionario['CAA']=='Glutamine')\n",
        "assert(diccionario['GAC']=='Aspartic acid')\n",
        "assert(diccionario['GGC']=='Glycine')\n",
        "assert(diccionario['CGU']=='Arginine')"
      ]
    },
    {
      "cell_type": "markdown",
      "metadata": {
        "id": "Q_EX5Ihm1s7N"
      },
      "source": [
        "## Ejercicio de ampliación III (0.5 puntos)\n",
        "\n",
        "Añade todos los tipos de entrada y salida de las funciones definidas en la práctica. Comprueba utilizando lo explicado en la práctica 1 que los tipos proporcionados son correctos."
      ]
    },
    {
      "cell_type": "markdown",
      "metadata": {
        "id": "njqjvrWZ1s7N"
      },
      "source": [
        "## Entrega\n",
        "\n",
        "Recuerda guardar este notebook con tus soluciones en tu repositorio."
      ]
    }
  ],
  "metadata": {
    "celltoolbar": "Edit Metadata",
    "colab": {
      "name": "practica2.ipynb",
      "provenance": [],
      "include_colab_link": true
    },
    "kernelspec": {
      "display_name": "Python 3 (ipykernel)",
      "language": "python",
      "name": "python3"
    },
    "language_info": {
      "codemirror_mode": {
        "name": "ipython",
        "version": 3
      },
      "file_extension": ".py",
      "mimetype": "text/x-python",
      "name": "python",
      "nbconvert_exporter": "python",
      "pygments_lexer": "ipython3",
      "version": "3.8.10"
    }
  },
  "nbformat": 4,
  "nbformat_minor": 0
}